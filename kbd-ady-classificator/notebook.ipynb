{
  "cells": [
    {
      "cell_type": "markdown",
      "metadata": {
        "colab_type": "text",
        "id": "view-in-github"
      },
      "source": [
        "<a href=\"https://colab.research.google.com/github/woshro/ml-projects/blob/main/%5Ckbd-ady-classificator%5Cady_kbd_classification.ipynb\" target=\"_parent\"><img src=\"https://colab.research.google.com/assets/colab-badge.svg\" alt=\"Open In Colab\"/></a>"
      ]
    },
    {
      "cell_type": "code",
      "execution_count": 14,
      "metadata": {
        "id": "2NMlWamvzPt3"
      },
      "outputs": [],
      "source": [
        "\n",
        "from datasets import load_dataset\n",
        "import json\n",
        "import numpy as np\n",
        "import pandas as pd\n",
        "from sklearn.model_selection import train_test_split\n",
        "from sklearn.feature_extraction.text import TfidfVectorizer, CountVectorizer\n",
        "from sklearn.linear_model import LogisticRegression\n",
        "from sklearn.metrics import classification_report, accuracy_score, f1_score, confusion_matrix\n",
        "import matplotlib.pyplot as plt\n",
        "import seaborn as sns\n",
        "from time import time\n"
      ]
    },
    {
      "cell_type": "markdown",
      "metadata": {
        "id": "GonbrOIyxkbQ"
      },
      "source": [
        "**License**\n",
        "\n",
        "This dataset is licensed under the [Creative Commons Attribution 4.0 International (CC BY 4.0)](https://creativecommons.org/licenses/by/4.0/) license.\n",
        "\n",
        "```bibtex\n",
        "@dataset{adiga-ai_circassian-russian_v1,\n",
        "  author       = {Anzor Qunash},\n",
        "  title        = {Circassian-Russian Parallel Text Corpus v1.0},\n",
        "  year         = {2025},\n",
        "  publisher    = {adiga.ai},\n",
        "  url          = {https://huggingface.co/datasets/adiga-ai/circassian-parallel-corpus}\n",
        "}\n",
        "```"
      ]
    },
    {
      "cell_type": "markdown",
      "metadata": {
        "id": "gwLU5-eCykRl"
      },
      "source": [
        "## **Структура** данных\n"
      ]
    },
    {
      "cell_type": "markdown",
      "metadata": {
        "id": "bcoeUfz2xKID"
      },
      "source": [
        "\n",
        "### Data Instances\n",
        "\n",
        "Each example is a dictionary containing a translation pair:\n",
        "\n",
        "```json\n",
        "{\n",
        "  \"translation\": {\n",
        "    \"kbd\": \"Уи пщэдджыжь фIыуэ!\",\n",
        "    \"ru\": \"Доброе утро!\"\n",
        "  }\n",
        "}\n",
        "```\n",
        "\n",
        "### Data Splits\n",
        "\n",
        "| Split | Source | Target | Examples |\n",
        "|-------|--------|--------|----------|\n",
        "| kbd_ru | East Circassian | Russian | 120,218 |\n",
        "| ru_kbd | Russian | East Circassian | 99,956 |\n",
        "| ady_ru | West Circassian | Russian | 57,305 |\n",
        "| ru_ady | Russian | West Circassian | 53,989 |\n",
        "| Total | | | 331,468 |\n",
        "\n",
        "## Dataset Creation\n",
        "\n",
        "### Source Data\n",
        "\n",
        "Source texts were collected from publicly available sources, including crowdsourced texts, dictionary entries, folklore texts, lists of proverbs and sayings. The specific sources for each language pair are detailed below.\n",
        "\n",
        "For folklore texts, special processing was applied to create high-quality translation pairs:\n",
        "- Works without existing Russian translations were translated from scratch into Russian and then split into sentence pairs\n",
        "- Works with existing Russian translations were refined by converting \"artistic\" translations into more precise, literal translations better suited for machine translation training\n",
        "\n",
        "This approach ensured that the parallel text pairs maintain semantic equivalence while being more suitable for training translation models than purely literary translations that might prioritize style over precision.\n",
        "\n",
        "### Data Quality and Processing\n",
        "\n",
        "All data was verified for quality either manually or through automated processes. The dataset underwent rigorous cleaning and preprocessing:\n",
        "\n",
        "- **Translation methodology**: All non-dictionary translations were created from scratch or substantially reworked to ensure semantic accuracy for machine translation training, rather than literary quality.\n",
        "- **Quality Verification**: The majority of entries were checked for accuracy and completeness by a native speaker.\n",
        "- **Standardization**: All [palochka](https://en.wikipedia.org/wiki/Palochka)-like characters (1, l, I, І, ӏ) were standardized to uppercase palochka (Ӏ).\n",
        "- **Script Consistency**: Look-alike Latin letters were converted to their Cyrillic equivalents to maintain script consistency.\n",
        "- **Deduplication**: Duplicate entries were identified and removed to ensure dataset quality.\n",
        "- **Filtering**: Entries with imbalanced text lengths or other quality issues were filtered out.\n",
        "- **Normalization**: Special characters and spacing were normalized across all texts.\n",
        "\n",
        "These processing steps helped ensure the dataset's consistency and reliability for machine translation tasks.\n",
        "\n",
        "## Considerations for Using the Data\n",
        "\n",
        "This dataset was created to support the development of machine translation systems for the Circassian language, contributing to language preservation and digital accessibility for Circassian speakers. Researchers working with this data should be aware that:\n",
        "\n",
        "- The two Circassian dialects (Kabardian and Adyghe) are structurally related but differ in phonology, vocabulary, and some grammatical features\n",
        "- The corpus contains texts from various time periods and domains, which may exhibit stylistic and lexical differences\n",
        "- While extensive cleaning has been performed, some translation pairs may still contain minor inaccuracies\n",
        "- For optimal results in machine translation tasks, models should be trained on each dialect separately\n"
      ]
    },
    {
      "cell_type": "markdown",
      "metadata": {
        "id": "XPcFpNPDywo9"
      },
      "source": [
        "# Загрузка данных"
      ]
    },
    {
      "cell_type": "code",
      "execution_count": 3,
      "metadata": {
        "id": "Hak5r6DCsyh8"
      },
      "outputs": [
        {
          "data": {
            "application/vnd.jupyter.widget-view+json": {
              "model_id": "600470b7a4e443c3ab2bfa1d56a62169",
              "version_major": 2,
              "version_minor": 0
            },
            "text/plain": [
              "README.md: 0.00B [00:00, ?B/s]"
            ]
          },
          "metadata": {},
          "output_type": "display_data"
        },
        {
          "name": "stderr",
          "output_type": "stream",
          "text": [
            "c:\\Users\\alina.oshroeva\\AppData\\Local\\anaconda3\\Lib\\site-packages\\huggingface_hub\\file_download.py:143: UserWarning: `huggingface_hub` cache-system uses symlinks by default to efficiently store duplicated files but your machine does not support them in C:\\Users\\alina.oshroeva\\.cache\\huggingface\\hub\\datasets--adiga-ai--circassian-parallel-corpus. Caching files will still work but in a degraded version that might require more space on your disk. This warning can be disabled by setting the `HF_HUB_DISABLE_SYMLINKS_WARNING` environment variable. For more details, see https://huggingface.co/docs/huggingface_hub/how-to-cache#limitations.\n",
            "To support symlinks on Windows, you either need to activate Developer Mode or to run Python as an administrator. In order to activate developer mode, see this article: https://docs.microsoft.com/en-us/windows/apps/get-started/enable-your-device-for-development\n",
            "  warnings.warn(message)\n",
            "Xet Storage is enabled for this repo, but the 'hf_xet' package is not installed. Falling back to regular HTTP download. For better performance, install the package with: `pip install huggingface_hub[hf_xet]` or `pip install hf_xet`\n"
          ]
        },
        {
          "data": {
            "application/vnd.jupyter.widget-view+json": {
              "model_id": "e65b8d764bfb44e9962605cd42571134",
              "version_major": 2,
              "version_minor": 0
            },
            "text/plain": [
              "ru_kbd-00000-of-00001.parquet:   0%|          | 0.00/4.16M [00:00<?, ?B/s]"
            ]
          },
          "metadata": {},
          "output_type": "display_data"
        },
        {
          "name": "stderr",
          "output_type": "stream",
          "text": [
            "Xet Storage is enabled for this repo, but the 'hf_xet' package is not installed. Falling back to regular HTTP download. For better performance, install the package with: `pip install huggingface_hub[hf_xet]` or `pip install hf_xet`\n"
          ]
        },
        {
          "data": {
            "application/vnd.jupyter.widget-view+json": {
              "model_id": "fea6b66e9d9544f69d3729080d97a348",
              "version_major": 2,
              "version_minor": 0
            },
            "text/plain": [
              "kbd_ru-00000-of-00001.parquet:   0%|          | 0.00/11.6M [00:00<?, ?B/s]"
            ]
          },
          "metadata": {},
          "output_type": "display_data"
        },
        {
          "name": "stderr",
          "output_type": "stream",
          "text": [
            "Xet Storage is enabled for this repo, but the 'hf_xet' package is not installed. Falling back to regular HTTP download. For better performance, install the package with: `pip install huggingface_hub[hf_xet]` or `pip install hf_xet`\n"
          ]
        },
        {
          "data": {
            "application/vnd.jupyter.widget-view+json": {
              "model_id": "df9ffabe79bb477da61f48ea15b688b8",
              "version_major": 2,
              "version_minor": 0
            },
            "text/plain": [
              "ru_ady-00000-of-00001.parquet:   0%|          | 0.00/1.93M [00:00<?, ?B/s]"
            ]
          },
          "metadata": {},
          "output_type": "display_data"
        },
        {
          "name": "stderr",
          "output_type": "stream",
          "text": [
            "Xet Storage is enabled for this repo, but the 'hf_xet' package is not installed. Falling back to regular HTTP download. For better performance, install the package with: `pip install huggingface_hub[hf_xet]` or `pip install hf_xet`\n"
          ]
        },
        {
          "data": {
            "application/vnd.jupyter.widget-view+json": {
              "model_id": "4721121e6802431da6e413de03a3ac35",
              "version_major": 2,
              "version_minor": 0
            },
            "text/plain": [
              "ady_ru-00000-of-00001.parquet:   0%|          | 0.00/8.46M [00:00<?, ?B/s]"
            ]
          },
          "metadata": {},
          "output_type": "display_data"
        },
        {
          "data": {
            "application/vnd.jupyter.widget-view+json": {
              "model_id": "82171bd5fe734e10aefe81ac83418c40",
              "version_major": 2,
              "version_minor": 0
            },
            "text/plain": [
              "Generating ru_kbd split:   0%|          | 0/99958 [00:00<?, ? examples/s]"
            ]
          },
          "metadata": {},
          "output_type": "display_data"
        },
        {
          "data": {
            "application/vnd.jupyter.widget-view+json": {
              "model_id": "dd52482ed9cd4c64b252fe11d9aaf255",
              "version_major": 2,
              "version_minor": 0
            },
            "text/plain": [
              "Generating kbd_ru split:   0%|          | 0/122080 [00:00<?, ? examples/s]"
            ]
          },
          "metadata": {},
          "output_type": "display_data"
        },
        {
          "data": {
            "application/vnd.jupyter.widget-view+json": {
              "model_id": "c43ec8df9c3241cda3b446c4bc8b9019",
              "version_major": 2,
              "version_minor": 0
            },
            "text/plain": [
              "Generating ru_ady split:   0%|          | 0/53987 [00:00<?, ? examples/s]"
            ]
          },
          "metadata": {},
          "output_type": "display_data"
        },
        {
          "data": {
            "application/vnd.jupyter.widget-view+json": {
              "model_id": "a82673868f0e41ae96f0e457e9d5d52d",
              "version_major": 2,
              "version_minor": 0
            },
            "text/plain": [
              "Generating ady_ru split:   0%|          | 0/57305 [00:00<?, ? examples/s]"
            ]
          },
          "metadata": {},
          "output_type": "display_data"
        }
      ],
      "source": [
        "from datasets import load_dataset\n",
        "\n",
        "# Login using e.g. `huggingface-cli login` to access this dataset\n",
        "ds = load_dataset(\"adiga-ai/circassian-parallel-corpus\", verification_mode=\"no_checks\")"
      ]
    },
    {
      "cell_type": "code",
      "execution_count": 4,
      "metadata": {
        "colab": {
          "base_uri": "https://localhost:8080/"
        },
        "id": "cZQwKHuisg52",
        "outputId": "486b74fb-1151-4346-df63-cb348d7276c6"
      },
      "outputs": [
        {
          "name": "stdout",
          "output_type": "stream",
          "text": [
            "DatasetDict({\n",
            "    ru_kbd: Dataset({\n",
            "        features: ['translation'],\n",
            "        num_rows: 99956\n",
            "    })\n",
            "    kbd_ru: Dataset({\n",
            "        features: ['translation'],\n",
            "        num_rows: 120218\n",
            "    })\n",
            "    ru_ady: Dataset({\n",
            "        features: ['translation'],\n",
            "        num_rows: 53989\n",
            "    })\n",
            "    ady_ru: Dataset({\n",
            "        features: ['translation'],\n",
            "        num_rows: 57305\n",
            "    })\n",
            "})\n",
            "\n",
            "Пример кабардинского: {'translation': '{\"kbd\": \"ублэрэкӀын\", \"ru\": \"переворачивать\"}'}\n",
            "Пример адыгейского: {'translation': '{\"ady\": \"Къэбарэу Тхьэм ы Къо тэ къытиӀуагъэу къышъодгъэӀурэр мары: Тхьэр – нэфын, шӀункӀыгъи ащ хэлъэп.\", \"ru\": \"Вот весть, которую нам сказал Сын Божий и которую мы передаем вам: Бог – свет, и нет в Нем никакой тьмы.\"}'}\n"
          ]
        }
      ],
      "source": [
        "# посмотрим на данные\n",
        "print(ds)\n",
        "print(\"\\nПример кабардинского:\", ds[\"kbd_ru\"][0])\n",
        "print(\"Пример адыгейского:\", ds[\"ady_ru\"][0])"
      ]
    },
    {
      "cell_type": "markdown",
      "metadata": {
        "id": "TJICct620Doj"
      },
      "source": [
        "## Распарсим данные\n",
        "\n",
        "Классы такие\n",
        "*   Кабардинский (label = 0)\n",
        "*   Адыгейский (label = 1)\n",
        "\n"
      ]
    },
    {
      "cell_type": "code",
      "execution_count": 5,
      "metadata": {
        "colab": {
          "base_uri": "https://localhost:8080/"
        },
        "id": "TdI6Qtomwk_o",
        "outputId": "20463b9f-2370-4021-b949-73970cf28463"
      },
      "outputs": [
        {
          "name": "stdout",
          "output_type": "stream",
          "text": [
            "Собираем кабардинские тексты...\n",
            "Кабардинских текстов: 220174\n",
            "Собираем адыгейские тексты...\n",
            "Адыгейских текстов: 111294\n",
            "\n",
            "Всего примеров: 331468\n",
            "\n",
            "=== Примеры ===\n",
            "Кабардинский: ублэрэкӀын\n",
            "Адыгейский: Къэбарэу Тхьэм ы Къо тэ къытиӀуагъэу къышъодгъэӀурэр мары: Тхьэр – нэфын, шӀункӀыгъи ащ хэлъэп.\n"
          ]
        }
      ],
      "source": [
        "import json\n",
        "\n",
        "texts = []\n",
        "labels = []\n",
        "\n",
        "# Кабардинский (label = 0)\n",
        "print(\"Собираем кабардинские тексты...\")\n",
        "\n",
        "# Из kbd_ru\n",
        "for ex in ds[\"kbd_ru\"]:\n",
        "    translation_dict = json.loads(ex[\"translation\"])\n",
        "    texts.append(translation_dict[\"kbd\"])\n",
        "    labels.append(0)\n",
        "\n",
        "# Из ru_kbd\n",
        "for ex in ds[\"ru_kbd\"]:\n",
        "    translation_dict = json.loads(ex[\"translation\"])\n",
        "    texts.append(translation_dict[\"kbd\"])\n",
        "    labels.append(0)\n",
        "\n",
        "print(f\"Кабардинских текстов: {labels.count(0)}\")\n",
        "\n",
        "# Адыгейский (label = 1)\n",
        "print(\"Собираем адыгейские тексты...\")\n",
        "\n",
        "# Из ady_ru\n",
        "for ex in ds[\"ady_ru\"]:\n",
        "    translation_dict = json.loads(ex[\"translation\"])\n",
        "    texts.append(translation_dict[\"ady\"])\n",
        "    labels.append(1)\n",
        "\n",
        "# Из ru_ady\n",
        "for ex in ds[\"ru_ady\"]:\n",
        "    translation_dict = json.loads(ex[\"translation\"])\n",
        "    texts.append(translation_dict[\"ady\"])\n",
        "    labels.append(1)\n",
        "\n",
        "print(f\"Адыгейских текстов: {labels.count(1)}\")\n",
        "print(f\"\\nВсего примеров: {len(texts)}\")\n",
        "\n",
        "# Посмотрим несколько примеров\n",
        "print(\"\\n=== Примеры ===\")\n",
        "print(f\"Кабардинский: {texts[0]}\")\n",
        "print(f\"Адыгейский: {texts[220174]}\")  # Первый адыгейский"
      ]
    },
    {
      "cell_type": "markdown",
      "metadata": {
        "id": "W7UVUxzNza7o"
      },
      "source": [
        "## Разделение на train/test"
      ]
    },
    {
      "cell_type": "markdown",
      "metadata": {
        "id": "4ExmLC3Z1sJg"
      },
      "source": [
        "Соотношение: 20% данных в тест, 80% в обучение. Стандартное для больших датасетов\n",
        "\n",
        "`stratify=labels` Сохраняет пропорции классов в train и test. В датасете ~66% кабардинского и ~34% адыгейского, поэтому без stratify можно случайно получить несбалансированные выборки.\n",
        "\n",
        "### Проблема несбалансированных выборок:\n",
        "\n",
        "Допустим что в train получилось 70% кабардинского, а в test — 60%.\n",
        "\n",
        "Тогда:\n",
        "* Модель переобучится на кабардинский\n",
        "* Поулчится высокая точность на train, но низкая на test.\n",
        "* Несправедливое сравнение - если изменить параметры модели и заново разделить данные, результаты будут несопоставимы из-за разного баланса\n",
        "\n",
        "\n",
        "\n"
      ]
    },
    {
      "cell_type": "code",
      "execution_count": 6,
      "metadata": {
        "colab": {
          "base_uri": "https://localhost:8080/"
        },
        "id": "QPYQzkptzY_8",
        "outputId": "cdd49f33-52ea-4b01-b682-59d0d2cd6e3d"
      },
      "outputs": [
        {
          "name": "stdout",
          "output_type": "stream",
          "text": [
            "Разделение данных на train/test...\n",
            "Train: 265174 примеров\n",
            "Test: 66294 примеров\n",
            "\n"
          ]
        }
      ],
      "source": [
        "print(\"Разделение данных на train/test...\")\n",
        "X_train, X_test, y_train, y_test = train_test_split(\n",
        "    texts, labels, test_size=0.2, random_state=42, stratify=labels\n",
        ")\n",
        "\n",
        "print(f\"Train: {len(X_train)} примеров\")\n",
        "print(f\"Test: {len(X_test)} примеров\\n\")\n"
      ]
    },
    {
      "cell_type": "markdown",
      "metadata": {
        "id": "XoV68bQszGzu"
      },
      "source": [
        "## Векторизация текстов\n",
        "В качестве Baseline удем исопльзовать TF-IDF\n",
        "\n",
        "В качестве analyzer выберем `char`\n",
        "\n",
        "* Сложная морфология (много приставок, суффиксов)\n",
        "* Специфические символы (Ӏ, къ, гъ)\n",
        "* Характерные сочетания, которые лучше ловятся на уровне символов\n",
        "\n",
        "В качестве n-граммы выберем `1-3-граммы`\n",
        "\n",
        "* Короткие n-граммы (1-2) - слишком общие\n",
        "* Длинные (4-5+) - слишком специфичные, разреженные\n",
        "* (1,3) - золотая середина для большинства задач\n",
        "\n",
        "Разреженная матрица (sparse matrix)\n",
        "\n",
        "Большинство значений = 0, хранятся только ненулевые → экономия памяти!\n",
        "\n"
      ]
    },
    {
      "cell_type": "code",
      "execution_count": 7,
      "metadata": {
        "id": "iTpiknWb9AL6"
      },
      "outputs": [
        {
          "name": "stdout",
          "output_type": "stream",
          "text": [
            "Векторизация текстов с помощью TF-IDF...\n",
            "Размерность векторов: 5000\n",
            "\n"
          ]
        }
      ],
      "source": [
        "# Векторизация текстов (TF-IDF)\n",
        "print(\"Векторизация текстов с помощью TF-IDF...\")\n",
        "vectorizer = TfidfVectorizer(\n",
        "    max_features=5000,  # Ограничиваем количество признаков\n",
        "    ngram_range=(1, 3),  # Используем uni-, bi- и tri-граммы символов\n",
        "    analyzer='char',  # Анализируем по символам (важно для морфологически богатых языков)\n",
        "    min_df=2  # Минимальная частота появления признака\n",
        ")\n",
        "\n",
        "X_train_vec = vectorizer.fit_transform(X_train)\n",
        "X_test_vec = vectorizer.transform(X_test)\n",
        "\n",
        "print(f\"Размерность векторов: {X_train_vec.shape[1]}\\n\")"
      ]
    },
    {
      "cell_type": "markdown",
      "metadata": {
        "id": "nozf8YVh0tdJ"
      },
      "source": [
        "# Обучение логистической регрессии"
      ]
    },
    {
      "cell_type": "code",
      "execution_count": 8,
      "metadata": {
        "colab": {
          "base_uri": "https://localhost:8080/"
        },
        "id": "a1yDXQwtzNSs",
        "outputId": "4065d147-db85-4849-e6d3-085336f49a99"
      },
      "outputs": [
        {
          "name": "stdout",
          "output_type": "stream",
          "text": [
            "Обучение логистической регрессии...\n",
            "Обучение завершено!\n",
            "\n"
          ]
        }
      ],
      "source": [
        "print(\"Обучение логистической регрессии...\")\n",
        "clf = LogisticRegression(\n",
        "    max_iter=1000,\n",
        "    random_state=42,\n",
        "    C=1.0,  # Параметр регуляризации\n",
        "    solver='lbfgs'\n",
        ")\n",
        "\n",
        "clf.fit(X_train_vec, y_train)\n",
        "print(\"Обучение завершено!\\n\")\n",
        "\n",
        "# Предсказания\n",
        "y_pred = clf.predict(X_test_vec)\n"
      ]
    },
    {
      "cell_type": "code",
      "execution_count": 15,
      "metadata": {
        "colab": {
          "base_uri": "https://localhost:8080/",
          "height": 1000
        },
        "id": "oqGzzJ_S0zIN",
        "outputId": "a119719b-725f-478d-e152-63cc8356019a"
      },
      "outputs": [
        {
          "name": "stdout",
          "output_type": "stream",
          "text": [
            "============================================================\n",
            "РЕЗУЛЬТАТЫ КЛАССИФИКАЦИИ\n",
            "============================================================\n",
            "\n",
            "Точность (Accuracy): 0.9425\n",
            "\n",
            "Детальный отчет:\n",
            "                    precision    recall  f1-score   support\n",
            "\n",
            "Кабардинский (kbd)     0.9409    0.9747    0.9575     44035\n",
            "  Адыгейский (ady)     0.9461    0.8788    0.9112     22259\n",
            "\n",
            "          accuracy                         0.9425     66294\n",
            "         macro avg     0.9435    0.9268    0.9344     66294\n",
            "      weighted avg     0.9426    0.9425    0.9420     66294\n",
            "\n",
            "\n",
            "Матрица ошибок:\n",
            "[[42921  1114]\n",
            " [ 2697 19562]]\n"
          ]
        },
        {
          "data": {
            "image/png": "[encoded data removed]",
            "text/plain": [
              "<Figure size 800x600 with 2 Axes>"
            ]
          },
          "metadata": {},
          "output_type": "display_data"
        },
        {
          "name": "stdout",
          "output_type": "stream",
          "text": [
            "\n",
            "============================================================\n",
            "ПРИМЕРЫ ПРЕДСКАЗАНИЙ\n",
            "============================================================\n",
            "\n",
            "Текст: ублэрэкӀын\n",
            "Истинная метка: Кабардинский\n",
            "Предсказание: Адыгейский\n",
            "Вероятности: Кабардинский=0.4986, Адыгейский=0.5014\n",
            "\n",
            "Текст: Къэбарэу Тхьэм ы Къо тэ къытиӀуагъэу къышъодгъэӀурэр мары\n",
            "Истинная метка: Адыгейский\n",
            "Предсказание: Адыгейский\n",
            "Вероятности: Кабардинский=0.0006, Адыгейский=0.9994\n",
            "\n",
            "============================================================\n",
            "ТОП-20 ВАЖНЫХ ПРИЗНАКОВ\n",
            "============================================================\n",
            "\n",
            "Признаки, характерные для КАБАРДИНСКОГО:\n",
            "  'уэ': -21.5726\n",
            "  'щӏ': -15.1779\n",
            "  'ху': -12.4058\n",
            "  'фӏ': -10.3267\n",
            "  'гъэ': -8.5386\n",
            "  'ъуэ': -7.9838\n",
            "  'ей': -7.8155\n",
            "  'щхь': -7.6413\n",
            "  'э': -7.2940\n",
            "  'ӏуэ': -7.1489\n",
            "  'щ': -7.0050\n",
            "  'ж': -6.9942\n",
            "  'щӏэ': -6.9635\n",
            "  ' и ': -6.7655\n",
            "  'ныг': -6.4535\n",
            "  'быд': -6.2620\n",
            "  'гъу': -6.1893\n",
            "  'щ.': -5.9976\n",
            "  'и ': -5.9757\n",
            "  'щӏы': -5.8637\n",
            "\n",
            "Признаки, характерные для АДЫГЕЙСКОГО:\n",
            "  'шӏ': 13.1511\n",
            "  'шъ': 12.9925\n",
            "  'жъ': 10.6474\n",
            "  'ъ': 8.9266\n",
            "  'ьан': 8.7985\n",
            "  'ӏо': 8.3314\n",
            "  'чӏ': 7.9603\n",
            "  'хьа': 7.3530\n",
            "  'о': 6.9586\n",
            "  'чъ': 6.9305\n",
            "  ' ы': 6.8312\n",
            "  'ныр': 6.8105\n",
            "  'ыжь': 6.7884\n",
            "  'эжь': 6.5890\n",
            "  'ахь': 6.5293\n",
            "  'ъо': 6.3382\n",
            "  'эу': 6.3255\n",
            "  'щхы': 6.2576\n",
            "  'шху': 6.2290\n",
            "  'рэр': 6.0248\n"
          ]
        }
      ],
      "source": [
        "\n",
        "# Оценка модели\n",
        "print(\"=\" * 60)\n",
        "print(\"РЕЗУЛЬТАТЫ КЛАССИФИКАЦИИ\")\n",
        "print(\"=\" * 60)\n",
        "print(f\"\\nТочность (Accuracy): {accuracy_score(y_test, y_pred):.4f}\\n\")\n",
        "\n",
        "print(\"Детальный отчет:\")\n",
        "print(classification_report(\n",
        "    y_test, y_pred,\n",
        "    target_names=['Кабардинский (kbd)', 'Адыгейский (ady)'],\n",
        "    digits=4\n",
        "))\n",
        "\n",
        "# Матрица ошибок\n",
        "cm = confusion_matrix(y_test, y_pred)\n",
        "print(\"\\nМатрица ошибок:\")\n",
        "print(cm)\n",
        "\n",
        "# Визуализация матрицы ошибок\n",
        "plt.figure(figsize=(8, 6))\n",
        "sns.heatmap(\n",
        "    cm,\n",
        "    annot=True,\n",
        "    fmt='d',\n",
        "    cmap='Blues',\n",
        "    xticklabels=['Кабардинский', 'Адыгейский'],\n",
        "    yticklabels=['Кабардинский', 'Адыгейский']\n",
        ")\n",
        "plt.title('Матрица ошибок')\n",
        "plt.ylabel('Истинный класс')\n",
        "plt.xlabel('Предсказанный класс')\n",
        "plt.tight_layout()\n",
        "plt.show()\n",
        "\n",
        "# Примеры предсказаний\n",
        "print(\"\\n\" + \"=\" * 60)\n",
        "print(\"ПРИМЕРЫ ПРЕДСКАЗАНИЙ\")\n",
        "print(\"=\" * 60)\n",
        "\n",
        "test_examples = [\n",
        "    (\"ублэрэкӀын\", \"Кабардинский\"),\n",
        "    (\"Къэбарэу Тхьэм ы Къо тэ къытиӀуагъэу къышъодгъэӀурэр мары\", \"Адыгейский\"),\n",
        "]\n",
        "\n",
        "for text, true_label in test_examples:\n",
        "    text_vec = vectorizer.transform([text])\n",
        "    pred = clf.predict(text_vec)[0]\n",
        "    pred_proba = clf.predict_proba(text_vec)[0]\n",
        "    pred_label = \"Кабардинский\" if pred == 0 else \"Адыгейский\"\n",
        "\n",
        "    print(f\"\\nТекст: {text}\")\n",
        "    print(f\"Истинная метка: {true_label}\")\n",
        "    print(f\"Предсказание: {pred_label}\")\n",
        "    print(f\"Вероятности: Кабардинский={pred_proba[0]:.4f}, Адыгейский={pred_proba[1]:.4f}\")\n",
        "\n",
        "# Топ важных признаков для каждого класса\n",
        "print(\"\\n\" + \"=\" * 60)\n",
        "print(\"ТОП-20 ВАЖНЫХ ПРИЗНАКОВ\")\n",
        "print(\"=\" * 60)\n",
        "\n",
        "feature_names = vectorizer.get_feature_names_out()\n",
        "coef = clf.coef_[0]\n",
        "\n",
        "# Признаки для кабардинского (отрицательные коэффициенты)\n",
        "top_kbd_indices = np.argsort(coef)[:20]\n",
        "print(\"\\nПризнаки, характерные для КАБАРДИНСКОГО:\")\n",
        "for idx in top_kbd_indices:\n",
        "    print(f\"  '{feature_names[idx]}': {coef[idx]:.4f}\")\n",
        "\n",
        "# Признаки для адыгейского (положительные коэффициенты)\n",
        "top_ady_indices = np.argsort(coef)[-20:][::-1]\n",
        "print(\"\\nПризнаки, характерные для АДЫГЕЙСКОГО:\")\n",
        "for idx in top_ady_indices:\n",
        "    print(f\"  '{feature_names[idx]}': {coef[idx]:.4f}\")"
      ]
    },
    {
      "cell_type": "markdown",
      "metadata": {
        "id": "zPh_wMUv8-O1"
      },
      "source": [
        "# Эксперименты с векторизацией"
      ]
    },
    {
      "cell_type": "markdown",
      "metadata": {
        "id": "r-7HXrzH5YGC"
      },
      "source": [
        "Создадим код для экспериментов с разными подходами векторизации. Сравним результаты и выберем лучший вариант."
      ]
    },
    {
      "cell_type": "code",
      "execution_count": 10,
      "metadata": {
        "colab": {
          "base_uri": "https://localhost:8080/"
        },
        "id": "lGPiAjfj53fv",
        "outputId": "1e2a6ace-828f-4fe5-e83a-a33c1359cf1b"
      },
      "outputs": [
        {
          "name": "stdout",
          "output_type": "stream",
          "text": [
            "Подготовлено 9 экспериментов:\n",
            "\n",
            "   1. Char 1-gram\n",
            "   2. Char 1-2gram\n",
            "   3. Char 1-3gram\n",
            "   4. Char 2-4gram\n",
            "   5. Word 1-gram\n",
            "   6. Word 1-2gram\n",
            "   7. Count Char 1-3gram\n",
            "   8. Count Word 1-gram\n",
            "   9. Char 1-3gram (10k features)\n"
          ]
        }
      ],
      "source": [
        "experiments = [\n",
        "    # Эксперименты с символьными n-граммами\n",
        "    {\n",
        "        'name': 'Char 1-gram',\n",
        "        'vectorizer': TfidfVectorizer(analyzer='char', ngram_range=(1, 1), max_features=5000, min_df=2)\n",
        "    },\n",
        "    {\n",
        "        'name': 'Char 1-2gram',\n",
        "        'vectorizer': TfidfVectorizer(analyzer='char', ngram_range=(1, 2), max_features=5000, min_df=2)\n",
        "    },\n",
        "    {\n",
        "        'name': 'Char 1-3gram',\n",
        "        'vectorizer': TfidfVectorizer(analyzer='char', ngram_range=(1, 3), max_features=5000, min_df=2)\n",
        "    },\n",
        "    {\n",
        "        'name': 'Char 2-4gram',\n",
        "        'vectorizer': TfidfVectorizer(analyzer='char', ngram_range=(2, 4), max_features=5000, min_df=2)\n",
        "    },\n",
        "\n",
        "    # Эксперименты со словесными n-граммами\n",
        "    {\n",
        "        'name': 'Word 1-gram',\n",
        "        'vectorizer': TfidfVectorizer(analyzer='word', ngram_range=(1, 1), max_features=5000, min_df=2)\n",
        "    },\n",
        "    {\n",
        "        'name': 'Word 1-2gram',\n",
        "        'vectorizer': TfidfVectorizer(analyzer='word', ngram_range=(1, 2), max_features=5000, min_df=2)\n",
        "    },\n",
        "\n",
        "    # Эксперименты с CountVectorizer (вместо TF-IDF)\n",
        "    {\n",
        "        'name': 'Count Char 1-3gram',\n",
        "        'vectorizer': CountVectorizer(analyzer='char', ngram_range=(1, 3), max_features=5000, min_df=2)\n",
        "    },\n",
        "    {\n",
        "        'name': 'Count Word 1-gram',\n",
        "        'vectorizer': CountVectorizer(analyzer='word', ngram_range=(1, 1), max_features=5000, min_df=2)\n",
        "    },\n",
        "\n",
        "    # Эксперимент с большим количеством признаков\n",
        "    {\n",
        "        'name': 'Char 1-3gram (10k features)',\n",
        "        'vectorizer': TfidfVectorizer(analyzer='char', ngram_range=(1, 3), max_features=10000, min_df=2)\n",
        "    },\n",
        "]\n",
        "\n",
        "print(f\"Подготовлено {len(experiments)} экспериментов:\\n\")\n",
        "for i, exp in enumerate(experiments, 1):\n",
        "    print(f\"   {i}. {exp['name']}\")"
      ]
    },
    {
      "cell_type": "markdown",
      "metadata": {
        "id": "3sTvffpSGnbC"
      },
      "source": [
        "## Запуск экспериментов"
      ]
    },
    {
      "cell_type": "code",
      "execution_count": 11,
      "metadata": {
        "colab": {
          "base_uri": "https://localhost:8080/"
        },
        "id": "usgrcxT_4wPm",
        "outputId": "c64bb629-62cf-43e0-91f2-fff8e1ed4dda"
      },
      "outputs": [
        {
          "name": "stdout",
          "output_type": "stream",
          "text": [
            " Эксперимент 1/9: Char 1-gram\n",
            "----------------------------------------------------------------------\n",
            "   Векторизация... ✓ (11.00s)\n",
            "   Обучение модели... ✓ (8.95s)\n",
            "   Предсказания... ✓ (0.00s)\n",
            "    Accuracy: 0.7935, F1-Score: 0.7847\n",
            "     Общее время: 20.02s\n",
            "\n",
            " Эксперимент 2/9: Char 1-2gram\n",
            "----------------------------------------------------------------------\n",
            "   Векторизация... ✓ (22.37s)\n",
            "   Обучение модели... ✓ (12.99s)\n",
            "   Предсказания... ✓ (0.01s)\n",
            "    Accuracy: 0.9170, F1-Score: 0.9161\n",
            "     Общее время: 35.43s\n",
            "\n",
            " Эксперимент 3/9: Char 1-3gram\n",
            "----------------------------------------------------------------------\n",
            "   Векторизация... ✓ (35.83s)\n",
            "   Обучение модели... ✓ (20.40s)\n",
            "   Предсказания... ✓ (0.03s)\n",
            "    Accuracy: 0.9404, F1-Score: 0.9398\n",
            "     Общее время: 56.37s\n",
            "\n",
            " Эксперимент 4/9: Char 2-4gram\n",
            "----------------------------------------------------------------------\n",
            "   Векторизация... ✓ (40.45s)\n",
            "   Обучение модели... ✓ (16.65s)\n",
            "   Предсказания... ✓ (0.02s)\n",
            "    Accuracy: 0.9392, F1-Score: 0.9386\n",
            "     Общее время: 57.21s\n",
            "\n",
            " Эксперимент 5/9: Word 1-gram\n",
            "----------------------------------------------------------------------\n",
            "   Векторизация... ✓ (4.38s)\n",
            "   Обучение модели... ✓ (6.13s)\n",
            "   Предсказания... ✓ (0.00s)\n",
            "    Accuracy: 0.8307, F1-Score: 0.8133\n",
            "     Общее время: 10.58s\n",
            "\n",
            " Эксперимент 6/9: Word 1-2gram\n",
            "----------------------------------------------------------------------\n",
            "   Векторизация... ✓ (9.97s)\n",
            "   Обучение модели... ✓ (6.23s)\n",
            "   Предсказания... ✓ (0.00s)\n",
            "    Accuracy: 0.8267, F1-Score: 0.8081\n",
            "     Общее время: 16.27s\n",
            "\n",
            " Эксперимент 7/9: Count Char 1-3gram\n",
            "----------------------------------------------------------------------\n",
            "   Векторизация... ✓ (32.39s)\n",
            "   Обучение модели... ✓ (51.20s)\n",
            "   Предсказания... ✓ (0.02s)\n",
            "    Accuracy: 0.9443, F1-Score: 0.9439\n",
            "     Общее время: 83.70s\n",
            "\n",
            " Эксперимент 8/9: Count Word 1-gram\n",
            "----------------------------------------------------------------------\n",
            "   Векторизация... ✓ (4.48s)\n",
            "   Обучение модели... ✓ (5.03s)\n",
            "   Предсказания... ✓ (0.00s)\n",
            "    Accuracy: 0.8306, F1-Score: 0.8129\n",
            "     Общее время: 9.59s\n",
            "\n",
            " Эксперимент 9/9: Char 1-3gram (10k features)\n",
            "----------------------------------------------------------------------\n",
            "   Векторизация... ✓ (45.57s)\n",
            "   Обучение модели... ✓ (20.60s)\n",
            "   Предсказания... ✓ (0.01s)\n",
            "    Accuracy: 0.9425, F1-Score: 0.9420\n",
            "     Общее время: 66.26s\n",
            "\n",
            "                Эксперимент  Accuracy  F1-Score  Признаков  Разреженность (%)  Время (сек)\n",
            "         Count Char 1-3gram  0.944294  0.943894       5000           1.323633    83.697596\n",
            "Char 1-3gram (10k features)  0.942514  0.941961      10000           0.674164    66.259900\n",
            "               Char 1-3gram  0.940357  0.939776       5000           1.323633    56.366556\n",
            "               Char 2-4gram  0.939180  0.938558       5000           1.322008    57.205510\n",
            "               Char 1-2gram  0.916976  0.916075       1992           1.945105    35.432786\n",
            "                Word 1-gram  0.830709  0.813271       5000           0.041216    10.580179\n",
            "          Count Word 1-gram  0.830573  0.812937       5000           0.041216     9.589763\n",
            "               Word 1-2gram  0.826726  0.808064       5000           0.042909    16.268308\n",
            "                Char 1-gram  0.793511  0.784689         86          15.873088    20.020848\n",
            "\n",
            " ЛУЧШИЙ РЕЗУЛЬТАТ:\n",
            "   Count Char 1-3gram\n",
            "   Accuracy: 0.9443\n",
            "   F1-Score: 0.9439\n"
          ]
        }
      ],
      "source": [
        "results = []\n",
        "\n",
        "for i, exp in enumerate(experiments, 1):\n",
        "    print(f\" Эксперимент {i}/{len(experiments)}: {exp['name']}\")\n",
        "    print(\"-\" * 70)\n",
        "\n",
        "    start_time = time()\n",
        "\n",
        "    # Векторизация\n",
        "    print(\"   Векторизация...\", end=\" \")\n",
        "    vectorizer = exp['vectorizer']\n",
        "    X_train_vec = vectorizer.fit_transform(X_train)\n",
        "    X_test_vec = vectorizer.transform(X_test)\n",
        "    vec_time = time() - start_time\n",
        "    print(f\"✓ ({vec_time:.2f}s)\")\n",
        "\n",
        "    # Обучение модели\n",
        "    print(\"   Обучение модели...\", end=\" \")\n",
        "    clf = LogisticRegression(max_iter=1000, random_state=42, solver='lbfgs')\n",
        "    clf.fit(X_train_vec, y_train)\n",
        "    train_time = time() - start_time - vec_time\n",
        "    print(f\"✓ ({train_time:.2f}s)\")\n",
        "\n",
        "    # Предсказания\n",
        "    print(\"   Предсказания...\", end=\" \")\n",
        "    y_pred = clf.predict(X_test_vec)\n",
        "    pred_time = time() - start_time - vec_time - train_time\n",
        "    print(f\"✓ ({pred_time:.2f}s)\")\n",
        "\n",
        "    # Метрики\n",
        "    accuracy = accuracy_score(y_test, y_pred)\n",
        "    f1 = f1_score(y_test, y_pred, average='weighted')\n",
        "\n",
        "    total_time = time() - start_time\n",
        "\n",
        "    # Сохранение результатов\n",
        "    results.append({\n",
        "        'Эксперимент': exp['name'],\n",
        "        'Accuracy': accuracy,\n",
        "        'F1-Score': f1,\n",
        "        'Признаков': X_train_vec.shape[1],\n",
        "        'Разреженность (%)': (X_train_vec.nnz / (X_train_vec.shape[0] * X_train_vec.shape[1])) * 100,\n",
        "        'Время (сек)': total_time\n",
        "    })\n",
        "\n",
        "    print(f\"    Accuracy: {accuracy:.4f}, F1-Score: {f1:.4f}\")\n",
        "    print(f\"     Общее время: {total_time:.2f}s\\n\")\n",
        "\n",
        "df_results = pd.DataFrame(results)\n",
        "df_results = df_results.sort_values('Accuracy', ascending=False)\n",
        "\n",
        "print(df_results.to_string(index=False))\n",
        "\n",
        "# Находим лучший эксперимент\n",
        "best_exp = df_results.iloc[0]\n",
        "print(f\"\\n ЛУЧШИЙ РЕЗУЛЬТАТ:\")\n",
        "print(f\"   {best_exp['Эксперимент']}\")\n",
        "print(f\"   Accuracy: {best_exp['Accuracy']:.4f}\")\n",
        "print(f\"   F1-Score: {best_exp['F1-Score']:.4f}\")\n"
      ]
    },
    {
      "cell_type": "markdown",
      "metadata": {
        "id": "zAdqwyX_6YSp"
      },
      "source": [
        "## Визуализация"
      ]
    },
    {
      "cell_type": "code",
      "execution_count": 12,
      "metadata": {
        "colab": {
          "base_uri": "https://localhost:8080/",
          "height": 1000
        },
        "id": "qGwh-gdQ6BVN",
        "outputId": "f4f12c8b-843e-44d5-edd1-c21c03378e52"
      },
      "outputs": [
        {
          "data": {
            "image/png": "[encoded data removed]",
            "text/plain": [
              "<Figure size 1500x1000 with 5 Axes>"
            ]
          },
          "metadata": {},
          "output_type": "display_data"
        },
        {
          "name": "stdout",
          "output_type": "stream",
          "text": [
            "\n",
            "На основе результатов:\n",
            "\n",
            "1. Лучшая точность: Count Char 1-3gram (0.9443)\n",
            "\n",
            "2. Если важна скорость: выберите эксперимент с меньшим временем выполнения\n",
            "\n",
            "3. Попробуйте добавить свои эксперименты в список 'experiments':\n",
            "   - Измените max_features (например, 3000 или 15000)\n",
            "   - Попробуйте другие диапазоны n-грамм (3-5, 1-4)\n",
            "   - Измените min_df (например, 3 или 5)\n",
            "   - Используйте char_wb analyzer (word boundaries для символов)\n",
            "\n",
            "4. Для дальнейшей работы используйте лучший vectorizer из эксперимента!\n",
            "\n"
          ]
        }
      ],
      "source": [
        "fig, axes = plt.subplots(2, 2, figsize=(15, 10))\n",
        "\n",
        "# 1. Accuracy по экспериментам\n",
        "ax1 = axes[0, 0]\n",
        "df_results_sorted = df_results.sort_values('Accuracy')\n",
        "bars1 = ax1.barh(df_results_sorted['Эксперимент'], df_results_sorted['Accuracy'])\n",
        "# Подсветка лучшего результата\n",
        "bars1[-1].set_color('green')\n",
        "ax1.set_xlabel('Accuracy')\n",
        "ax1.set_title('Точность классификации')\n",
        "ax1.axvline(x=df_results['Accuracy'].mean(), color='red', linestyle='--', label='Среднее')\n",
        "ax1.legend()\n",
        "\n",
        "# 2. F1-Score по экспериментам\n",
        "ax2 = axes[0, 1]\n",
        "df_results_sorted_f1 = df_results.sort_values('F1-Score')\n",
        "bars2 = ax2.barh(df_results_sorted_f1['Эксперимент'], df_results_sorted_f1['F1-Score'])\n",
        "bars2[-1].set_color('green')\n",
        "ax2.set_xlabel('F1-Score')\n",
        "ax2.set_title('F1-метрика')\n",
        "ax2.axvline(x=df_results['F1-Score'].mean(), color='red', linestyle='--', label='Среднее')\n",
        "ax2.legend()\n",
        "\n",
        "# 3. Время выполнения\n",
        "ax3 = axes[1, 0]\n",
        "df_results_sorted_time = df_results.sort_values('Время (сек)')\n",
        "bars3 = ax3.barh(df_results_sorted_time['Эксперимент'], df_results_sorted_time['Время (сек)'])\n",
        "bars3[0].set_color('blue')\n",
        "ax3.set_xlabel('Время (секунды)')\n",
        "ax3.set_title('Время обучения и оценки')\n",
        "\n",
        "# 4. Accuracy vs Время\n",
        "ax4 = axes[1, 1]\n",
        "scatter = ax4.scatter(df_results['Время (сек)'], df_results['Accuracy'],\n",
        "                     s=100, alpha=0.6, c=df_results['Признаков'], cmap='viridis')\n",
        "for idx, row in df_results.iterrows():\n",
        "    ax4.annotate(row['Эксперимент'],\n",
        "                (row['Время (сек)'], row['Accuracy']),\n",
        "                fontsize=8, alpha=0.7)\n",
        "ax4.set_xlabel('Время (секунды)')\n",
        "ax4.set_ylabel('Accuracy')\n",
        "ax4.set_title('Компромисс: Точность vs Скорость')\n",
        "plt.colorbar(scatter, ax=ax4, label='Количество признаков')\n",
        "\n",
        "plt.tight_layout()\n",
        "plt.show()\n",
        "\n",
        "\n",
        "\n",
        "print(f\"\"\"\n",
        "На основе результатов:\n",
        "\n",
        "1. Лучшая точность: {best_exp['Эксперимент']} ({best_exp['Accuracy']:.4f})\n",
        "\n",
        "2. Если важна скорость: выберите эксперимент с меньшим временем выполнения\n",
        "\n",
        "3. Попробуйте добавить свои эксперименты в список 'experiments':\n",
        "   - Измените max_features (например, 3000 или 15000)\n",
        "   - Попробуйте другие диапазоны n-грамм (3-5, 1-4)\n",
        "   - Измените min_df (например, 3 или 5)\n",
        "   - Используйте char_wb analyzer (word boundaries для символов)\n",
        "\n",
        "4. Для дальнейшей работы используйте лучший vectorizer из эксперимента!\n",
        "\"\"\")"
      ]
    },
    {
      "cell_type": "markdown",
      "metadata": {
        "id": "mT1nybeXCgTo"
      },
      "source": [
        "В качестве Baseline Были выбраны TF-IDF Char 1-3gram,  в ходе эксперимента лучший результат получился при Count Char 1-3gram (+0.34% accuracy).\n",
        "\n",
        "| Метрика | Count Char 1-3gram (5k) | TF-IDF Char 1-3gram (10k) |\n",
        "|---------|-------------------------|---------------------------|\n",
        "| **Accuracy** | **0.9435** 🏆 | 0.9401 |\n",
        "| **F1-Score** | **0.9431** 🏆 | 0.9395 |\n",
        "| **Время** | 39.89s | 40.17s |\n",
        "| **Признаков** | 5,000 | 10,000 |\n",
        "\n",
        "Выводы:\n",
        "1. Для различения кабардинского и адыгейского простая частота важнее редкости признаков.  \n",
        "    * Простые частоты эффективнее - различия языков могут быть в том, КАК ЧАСТО используются одни и те же символы/сочетания, а не в наличии уникальных редких сочетаний\n",
        "    * TF-IDF занижает важные признаки - если какая-то n-грамма часто встречается в обоих языках, TF-IDF снизит её вес, хотя ЧАСТОТА её использования может различаться\n",
        "\n",
        "2. Больше признаков ≠ лучше результат\n",
        "    * 10k признаков дали хуже результат, чем 5k\n",
        "    * Это типичное переобучение или шум от слишком редких n-грамм\n",
        "    * 5k признаков - оптимальный баланс\n",
        "3.  Пародоксально но 10к признаков TF-IDF обучаются быстрее чем Count\n",
        "    Count 5k:  векторизация 22.06s, обучение 17.75s\n",
        "    TF-IDF 10k: векторизация 32.63s, обучение 7.41s\n",
        "    * TF-IDF создает более разреженную матрицу (меньше ненулевых значений)\n",
        "    * Логистическая регрессия работает быстрее на разреженных данных\n",
        "    * НО векторизация TF-IDF сложнее (расчет IDF)"
      ]
    }
  ],
  "metadata": {
    "colab": {
      "authorship_tag": "ABX9TyMWnc41cpI6r/DDX8kVXh9e",
      "include_colab_link": true,
      "provenance": []
    },
    "kernelspec": {
      "display_name": "base",
      "language": "python",
      "name": "python3"
    },
    "language_info": {
      "codemirror_mode": {
        "name": "ipython",
        "version": 3
      },
      "file_extension": ".py",
      "mimetype": "text/x-python",
      "name": "python",
      "nbconvert_exporter": "python",
      "pygments_lexer": "ipython3",
      "version": "3.11.7"
    }
  },
  "nbformat": 4,
  "nbformat_minor": 0
}
